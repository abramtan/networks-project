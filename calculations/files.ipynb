{
 "cells": [
  {
   "cell_type": "code",
   "execution_count": null,
   "metadata": {},
   "outputs": [],
   "source": [
    "from datetime import datetime\n",
    "\n",
    "import pandas as pd\n",
    "import os"
   ]
  },
  {
   "cell_type": "code",
   "execution_count": null,
   "metadata": {},
   "outputs": [],
   "source": [
    "def parse_file(name):\n",
    "    df = pd.read_csv('./files/' + name)\n",
    "    out = pd.DataFrame(columns=['jobNo','Start','End','timeTaken','Success'])\n",
    "\n",
    "    for i in range(len(df)//2):\n",
    "        jobNo = df.iloc[i*2]['jobNo']\n",
    "        temp = df[df['jobNo'] == jobNo]\n",
    "        start = datetime.strptime(temp.iloc[0]['time'], '%c')\n",
    "        end = datetime.strptime(temp.iloc[1]['time'], '%c')\n",
    "        timeTaken = end - start\n",
    "        #print(f\"jobNo: {jobNo}, Start: {start}, End: {end}, Timetaken: {timeTaken}\")\n",
    "        success = df.iloc[i*2+1]['Success']\n",
    "\n",
    "        out.loc[len(out)] = {'jobNo': jobNo, 'Start': start, 'End': end, 'timeTaken': timeTaken, 'Success': success}\n",
    "    \n",
    "    return out\n",
    "\n",
    "def avg_time(df):\n",
    "    return df['timeTaken'].mean()\n",
    "def req_count(df):\n",
    "    return df['jobNo'].nunique()"
   ]
  },
  {
   "cell_type": "code",
   "execution_count": null,
   "metadata": {},
   "outputs": [],
   "source": [
    "files = [f for f in os.listdir('./files')]\n",
    "\n",
    "results = []\n",
    "\n",
    "for f in files:\n",
    "    returned = parse_file(f)\n",
    "    avg = avg_time(returned)\n",
    "    df = pd.read_csv('./files/' + f)\n",
    "    count = req_count(df)\n",
    "    comCount = req_count(returned)\n",
    "    results.append({'file': f, 'avgTime': avg, 'completed' : comCount, 'total' : count})\n",
    "\n",
    "results"
   ]
  },
  {
   "cell_type": "code",
   "execution_count": null,
   "metadata": {},
   "outputs": [],
   "source": []
  }
 ],
 "metadata": {
  "kernelspec": {
   "display_name": "base",
   "language": "python",
   "name": "python3"
  },
  "language_info": {
   "codemirror_mode": {
    "name": "ipython",
    "version": 3
   },
   "file_extension": ".py",
   "mimetype": "text/x-python",
   "name": "python",
   "nbconvert_exporter": "python",
   "pygments_lexer": "ipython3",
   "version": "3.12.2"
  }
 },
 "nbformat": 4,
 "nbformat_minor": 2
}
