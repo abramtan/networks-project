{
 "cells": [
  {
   "cell_type": "code",
   "execution_count": 2,
   "metadata": {},
   "outputs": [],
   "source": [
    "from datetime import datetime\n",
    "\n",
    "import pandas as pd\n",
    "import os"
   ]
  },
  {
   "cell_type": "code",
   "execution_count": 3,
   "metadata": {},
   "outputs": [],
   "source": [
    "def parse_file(name):\n",
    "    df = pd.read_csv('./files/' + name)\n",
    "    out = pd.DataFrame(columns=['jobNo','Start','End','timeTaken','Success'])\n",
    "\n",
    "    for i in range(len(df)//2):\n",
    "        jobNo = df.iloc[i*2]['jobNo']\n",
    "        temp = df[df['jobNo'] == jobNo]\n",
    "        start = datetime.strptime(temp.iloc[0]['time'], '%c')\n",
    "        end = datetime.strptime(temp.iloc[1]['time'], '%c')\n",
    "        timeTaken = end - start\n",
    "        #print(f\"jobNo: {jobNo}, Start: {start}, End: {end}, Timetaken: {timeTaken}\")\n",
    "        success = df.iloc[i*2+1]['Success']\n",
    "\n",
    "        out.loc[len(out)] = {'jobNo': jobNo, 'Start': start, 'End': end, 'timeTaken': timeTaken, 'Success': success}\n",
    "    \n",
    "    return out\n",
    "\n",
    "def avg_time(df):\n",
    "    return df['timeTaken'].mean()\n",
    "def req_count(df):\n",
    "    return df['jobNo'].nunique()"
   ]
  },
  {
   "cell_type": "code",
   "execution_count": 18,
   "metadata": {},
   "outputs": [
    {
     "name": "stdout",
     "output_type": "stream",
     "text": [
      "r1: 70.48478092559999\n",
      "r2: 90.64713095700003\n",
      "r3: 108.08688371520002\n"
     ]
    }
   ],
   "source": [
    "tdp1 = 240\n",
    "tdp2 = 300\n",
    "tdp3 = 360\n",
    "\n",
    "\n",
    "\n",
    "df =  pd.read_csv('power.csv')\n",
    "r1=0\n",
    "r2=0\n",
    "r3=0\n",
    "for i in range(len(df)):\n",
    "    row = df.iloc[i]\n",
    "    r1 += row[\"r1\"]/100 * tdp1 /60\n",
    "    r2 += row[\"r2\"]/100 * tdp2 /60\n",
    "    r3 += row[\"r3\"]/100 * tdp3 /60\n",
    "print(f\"r1: {r1}\")\n",
    "print(f\"r2: {r2}\")\n",
    "print(f\"r3: {r3}\")"
   ]
  },
  {
   "cell_type": "code",
   "execution_count": null,
   "metadata": {},
   "outputs": [],
   "source": []
  }
 ],
 "metadata": {
  "kernelspec": {
   "display_name": "base",
   "language": "python",
   "name": "python3"
  },
  "language_info": {
   "codemirror_mode": {
    "name": "ipython",
    "version": 3
   },
   "file_extension": ".py",
   "mimetype": "text/x-python",
   "name": "python",
   "nbconvert_exporter": "python",
   "pygments_lexer": "ipython3",
   "version": "3.12.2"
  }
 },
 "nbformat": 4,
 "nbformat_minor": 2
}
