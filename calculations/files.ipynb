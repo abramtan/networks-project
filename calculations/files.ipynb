{
 "cells": [
  {
   "cell_type": "code",
   "execution_count": 49,
   "metadata": {},
   "outputs": [],
   "source": [
    "from datetime import datetime\n",
    "\n",
    "import pandas as pd\n",
    "import os"
   ]
  },
  {
   "cell_type": "code",
   "execution_count": 66,
   "metadata": {},
   "outputs": [],
   "source": [
    "def parse_file(name):\n",
    "    df = pd.read_csv('./files/' + name)\n",
    "    out = pd.DataFrame(columns=['jobNo','Start','End','timeTaken','Success'])\n",
    "\n",
    "    for i in range(len(df)//2):\n",
    "        jobNo = df.iloc[i*2]['jobNo']\n",
    "        start = datetime.strptime(df.iloc[i*2]['time'], '%c')\n",
    "        end = datetime.strptime(df.iloc[i*2+1]['time'], '%c')\n",
    "        timeTaken = end - start\n",
    "        success = df.iloc[i*2+1]['Success']\n",
    "\n",
    "        out.loc[len(out)] = {'jobNo': jobNo, 'Start': start, 'End': end, 'timeTaken': timeTaken, 'Success': success}\n",
    "    \n",
    "    return out\n",
    "\n",
    "def avg_time(df):\n",
    "    return df.loc[df['Success']=='Success']['timeTaken'].mean()"
   ]
  },
  {
   "cell_type": "code",
   "execution_count": 69,
   "metadata": {},
   "outputs": [
    {
     "data": {
      "text/plain": [
       "[{'file': 'c6i-jobData.csv', 'avgTime': Timedelta('0 days 00:00:32.625000')},\n",
       " {'file': 't2-jobData.csv', 'avgTime': Timedelta('0 days 00:00:33.250000')},\n",
       " {'file': 't3-jobData.csv', 'avgTime': Timedelta('0 days 00:00:55.500000')}]"
      ]
     },
     "execution_count": 69,
     "metadata": {},
     "output_type": "execute_result"
    }
   ],
   "source": [
    "files = [f for f in os.listdir('./files')]\n",
    "\n",
    "results = []\n",
    "\n",
    "for f in files:\n",
    "    returned = parse_file(f)\n",
    "    avg = avg_time(returned)\n",
    "\n",
    "    results.append({'file': f, 'avgTime': avg})\n",
    "\n",
    "results"
   ]
  }
 ],
 "metadata": {
  "kernelspec": {
   "display_name": "base",
   "language": "python",
   "name": "python3"
  },
  "language_info": {
   "codemirror_mode": {
    "name": "ipython",
    "version": 3
   },
   "file_extension": ".py",
   "mimetype": "text/x-python",
   "name": "python",
   "nbconvert_exporter": "python",
   "pygments_lexer": "ipython3",
   "version": "3.11.5"
  }
 },
 "nbformat": 4,
 "nbformat_minor": 2
}
