{
 "cells": [
  {
   "cell_type": "code",
   "execution_count": 1,
   "metadata": {},
   "outputs": [],
   "source": [
    "from datetime import datetime\n",
    "\n",
    "import pandas as pd\n",
    "import os"
   ]
  },
  {
   "cell_type": "code",
   "execution_count": 17,
   "metadata": {},
   "outputs": [],
   "source": [
    "def parse_file(name):\n",
    "    df = pd.read_csv('./files/' + name)\n",
    "    out = pd.DataFrame(columns=['jobNo','Start','End','timeTaken','Success'])\n",
    "\n",
    "    for i in range(len(df)//2):\n",
    "        jobNo = df.iloc[i*2]['jobNo']\n",
    "        start = datetime.strptime(df.iloc[i*2]['time'], '%c')\n",
    "        end = datetime.strptime(df.iloc[i*2+1]['time'], '%c')\n",
    "        timeTaken = end - start\n",
    "        print(timeTaken)\n",
    "        success = df.iloc[i*2+1]['Success']\n",
    "\n",
    "        out.loc[len(out)] = {'jobNo': jobNo, 'Start': start, 'End': end, 'timeTaken': timeTaken, 'Success': success}\n",
    "    \n",
    "    return out\n",
    "\n",
    "def avg_time(df):\n",
    "    return df['timeTaken'].mean()\n",
    "def req_count(df):\n",
    "    return df['jobNo'].nunique()"
   ]
  },
  {
   "cell_type": "code",
   "execution_count": 18,
   "metadata": {},
   "outputs": [
    {
     "name": "stdout",
     "output_type": "stream",
     "text": [
      "0:00:45\n",
      "0:00:56\n",
      "0:00:41\n",
      "0:00:45\n",
      "0:00:45\n",
      "0:00:45\n",
      "0:00:55\n",
      "0:00:45\n",
      "0:00:08\n",
      "0:00:37\n",
      "0:00:06\n",
      "0:00:15\n",
      "0:00:35\n",
      "0:00:52\n",
      "0:00:56\n",
      "0:00:41\n",
      "0:00:56\n",
      "0:00:36\n",
      "0:00:56\n",
      "0:00:38\n",
      "0:00:45\n",
      "0:00:45\n",
      "0:00:45\n",
      "0:00:45\n",
      "0:00:45\n",
      "0:00:56\n",
      "0:00:39\n",
      "0:00:45\n",
      "0:00:42\n",
      "0:00:23\n",
      "0:00:24\n",
      "0:00:36\n",
      "0:00:33\n",
      "0:00:23\n",
      "0:00:23\n",
      "0:00:23\n",
      "0:00:23\n",
      "0:00:33\n",
      "0:00:23\n",
      "0:00:47\n",
      "0:00:42\n",
      "0:00:37\n",
      "0:00:42\n",
      "0:00:23\n",
      "0:00:37\n",
      "0:00:43\n",
      "0:00:43\n",
      "0:00:39\n",
      "0:00:40\n",
      "0:00:43\n",
      "0:00:23\n",
      "0:00:23\n",
      "0:00:37\n",
      "0:00:38\n",
      "0:00:56\n",
      "0:00:00\n",
      "0:00:34\n",
      "0:00:55\n",
      "0:00:56\n",
      "0:00:25\n",
      "0:00:03\n",
      "0:00:29\n",
      "0:00:55\n",
      "0:00:56\n",
      "0:00:26\n",
      "0:00:01\n",
      "0:00:31\n",
      "0:00:56\n",
      "0:00:54\n",
      "0:00:31\n",
      "0:00:01\n",
      "0:00:28\n",
      "0:00:55\n",
      "0:00:54\n",
      "0:00:26\n",
      "0:00:02\n",
      "0:01:10\n",
      "0:00:50\n",
      "0:00:29\n",
      "0:00:14\n",
      "0:00:03\n"
     ]
    },
    {
     "data": {
      "text/plain": [
       "[{'file': 'c6i.csv',\n",
       "  'avgTime': Timedelta('0 days 00:00:42.071428571'),\n",
       "  'reqCount': 21},\n",
       " {'file': 'c7a.csv',\n",
       "  'avgTime': Timedelta('0 days 00:00:33.192307692'),\n",
       "  'reqCount': 26},\n",
       " {'file': 'm5.csv',\n",
       "  'avgTime': Timedelta('0 days 00:00:33.333333333'),\n",
       "  'reqCount': 18}]"
      ]
     },
     "execution_count": 18,
     "metadata": {},
     "output_type": "execute_result"
    }
   ],
   "source": [
    "files = [f for f in os.listdir('./files')]\n",
    "\n",
    "results = []\n",
    "\n",
    "for f in files:\n",
    "    returned = parse_file(f)\n",
    "    avg = avg_time(returned)\n",
    "    count = req_count(returned)\n",
    "    results.append({'file': f, 'avgTime': avg, 'reqCount' : count})\n",
    "\n",
    "results"
   ]
  },
  {
   "cell_type": "code",
   "execution_count": null,
   "metadata": {},
   "outputs": [],
   "source": []
  }
 ],
 "metadata": {
  "kernelspec": {
   "display_name": "base",
   "language": "python",
   "name": "python3"
  },
  "language_info": {
   "codemirror_mode": {
    "name": "ipython",
    "version": 3
   },
   "file_extension": ".py",
   "mimetype": "text/x-python",
   "name": "python",
   "nbconvert_exporter": "python",
   "pygments_lexer": "ipython3",
   "version": "3.12.2"
  }
 },
 "nbformat": 4,
 "nbformat_minor": 2
}
